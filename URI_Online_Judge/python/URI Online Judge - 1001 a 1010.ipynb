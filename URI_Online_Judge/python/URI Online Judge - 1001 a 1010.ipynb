{
 "cells": [
  {
   "cell_type": "markdown",
   "metadata": {},
   "source": [
    "#### Aluna:  <a href = \"https://www.urionlinejudge.com.br/judge/pt/profile/495036\">Bruna Ferreira</a> \n"
   ]
  },
  {
   "cell_type": "markdown",
   "metadata": {},
   "source": [
    "### Soluções URI Online Judge\n",
    "* <a href = \"https://www.urionlinejudge.com.br/judge/pt/problems/view/1001\">URI 1001</a>"
   ]
  },
  {
   "cell_type": "code",
   "execution_count": 1,
   "metadata": {},
   "outputs": [
    {
     "name": "stdout",
     "output_type": "stream",
     "text": [
      "10\n",
      "9\n",
      "X = 19\n"
     ]
    }
   ],
   "source": [
    "A = input()\n",
    "B = input()\n",
    "\n",
    "X = int(A) + int(B)\n",
    "\n",
    "print(\"X =\",X)"
   ]
  },
  {
   "cell_type": "markdown",
   "metadata": {},
   "source": [
    "* <a href = \"https://www.urionlinejudge.com.br/judge/pt/problems/view/1002\">URI 1002 - Area Circulo </a>"
   ]
  },
  {
   "cell_type": "code",
   "execution_count": 2,
   "metadata": {},
   "outputs": [
    {
     "name": "stdout",
     "output_type": "stream",
     "text": [
      "2.00\n",
      "A=12.5664\n"
     ]
    }
   ],
   "source": [
    "raio = round(float(input()),2)\n",
    "area = float(3.14159)*(raio**2)\n",
    "print(\"A={:.4f}\".format(area))"
   ]
  },
  {
   "cell_type": "markdown",
   "metadata": {},
   "source": [
    "* <a href = \"https://www.urionlinejudge.com.br/judge/pt/problems/view/1003\">URI 1003 - Soma Simples</a>"
   ]
  },
  {
   "cell_type": "code",
   "execution_count": 3,
   "metadata": {},
   "outputs": [
    {
     "name": "stdout",
     "output_type": "stream",
     "text": [
      "30\n",
      "10\n",
      "SOMA = 40\n"
     ]
    }
   ],
   "source": [
    "A = int(input())\n",
    "B = int(input())\n",
    "SOMA = A+B\n",
    "print(\"SOMA =\",SOMA)"
   ]
  },
  {
   "cell_type": "markdown",
   "metadata": {},
   "source": [
    "* <a href = \"https://www.urionlinejudge.com.br/judge/pt/problems/view/1004\">URI 1004 - Produto Simples</a>"
   ]
  },
  {
   "cell_type": "code",
   "execution_count": 4,
   "metadata": {},
   "outputs": [
    {
     "name": "stdout",
     "output_type": "stream",
     "text": [
      "3\n",
      "9\n",
      "PROD = 27\n"
     ]
    }
   ],
   "source": [
    "A = int(input())\n",
    "B = int(input())\n",
    "PROD = A*B\n",
    "print(\"PROD =\",PROD)"
   ]
  },
  {
   "cell_type": "markdown",
   "metadata": {},
   "source": [
    "* <a href = \"https://www.urionlinejudge.com.br/judge/pt/problems/view/1005\">URI 1005 - Média 1</a>"
   ]
  },
  {
   "cell_type": "code",
   "execution_count": 6,
   "metadata": {},
   "outputs": [
    {
     "name": "stdout",
     "output_type": "stream",
     "text": [
      "5.0\n",
      "7.1\n",
      "MEDIA = 6.43182\n"
     ]
    }
   ],
   "source": [
    "A = float(input())\n",
    "B = float(input())\n",
    "MEDIA = (A*3.5 + B*7.5)/11\n",
    "print(\"MEDIA = {:.5f}\".format(MEDIA))"
   ]
  },
  {
   "cell_type": "markdown",
   "metadata": {},
   "source": [
    "* <a href = \"https://www.urionlinejudge.com.br/judge/pt/problems/view/1006\">URI 1006 - Média 2</a>"
   ]
  },
  {
   "cell_type": "code",
   "execution_count": 7,
   "metadata": {},
   "outputs": [
    {
     "name": "stdout",
     "output_type": "stream",
     "text": [
      "5.0\n",
      "6.0\n",
      "7.0\n",
      "MEDIA = 6.3\n"
     ]
    }
   ],
   "source": [
    "A = float(input())\n",
    "B = float(input())\n",
    "C = float(input())\n",
    "MEDIA = (A*2 + B*3 + C*5)/10\n",
    "print(\"MEDIA = {:.1f}\".format(MEDIA))"
   ]
  },
  {
   "cell_type": "markdown",
   "metadata": {},
   "source": [
    "* <a href = \"https://www.urionlinejudge.com.br/judge/pt/problems/view/1007\">URI 1007 - Diferença</a>"
   ]
  },
  {
   "cell_type": "code",
   "execution_count": 8,
   "metadata": {},
   "outputs": [
    {
     "name": "stdout",
     "output_type": "stream",
     "text": [
      "5\n",
      "6\n",
      "7\n",
      "8\n",
      "DIFERENCA = -26\n"
     ]
    }
   ],
   "source": [
    "A = int(input())\n",
    "B = int(input())\n",
    "C = int(input())\n",
    "D = int(input())\n",
    "DIFERENCA = (A * B - C * D)\n",
    "print(\"DIFERENCA =\" ,DIFERENCA)"
   ]
  },
  {
   "cell_type": "markdown",
   "metadata": {},
   "source": [
    "* <a href = \"https://www.urionlinejudge.com.br/judge/pt/problems/view/1008\">URI 1008 - Salário</a>"
   ]
  },
  {
   "cell_type": "code",
   "execution_count": 9,
   "metadata": {},
   "outputs": [
    {
     "name": "stdout",
     "output_type": "stream",
     "text": [
      "25\n",
      "100\n",
      "5.50\n",
      "NUMBER = 25\n",
      "SALARY = U$ 550.00\n"
     ]
    }
   ],
   "source": [
    "A = int(input())\n",
    "B = int(input())\n",
    "C = float(input())\n",
    "salary = B*C \n",
    "print(\"NUMBER =\" ,A)\n",
    "print(\"SALARY = U$ {:.2f}\".format(salary))"
   ]
  },
  {
   "cell_type": "markdown",
   "metadata": {},
   "source": [
    "* <a href = \"https://www.urionlinejudge.com.br/judge/pt/problems/view/1009\">URI 1009 - Salário com Bônus</a>"
   ]
  },
  {
   "cell_type": "code",
   "execution_count": 10,
   "metadata": {},
   "outputs": [
    {
     "name": "stdout",
     "output_type": "stream",
     "text": [
      "JOAO\n",
      "500.00\n",
      "1230.30\n",
      "TOTAL = R$ 684.54\n"
     ]
    }
   ],
   "source": [
    "A = input()\n",
    "B = float(input())\n",
    "C = float(input())\n",
    "TOTAL = ((15/100)*C)+B\n",
    "print(\"TOTAL = R$ {:.2f}\".format(TOTAL))"
   ]
  },
  {
   "cell_type": "markdown",
   "metadata": {},
   "source": [
    "* <a href = \"https://www.urionlinejudge.com.br/judge/pt/problems/view/1010\">URI 1010 - Cálculo Simples</a>"
   ]
  },
  {
   "cell_type": "code",
   "execution_count": 11,
   "metadata": {},
   "outputs": [
    {
     "name": "stdout",
     "output_type": "stream",
     "text": [
      "12 1 5.30\n",
      "16 2 5.10\n",
      "VALOR A PAGAR: R$ 15.50\n"
     ]
    }
   ],
   "source": [
    "A = input()\n",
    "B = input()\n",
    "VALOR = int(A.split()[1])*float(A.split()[2]) + int(B.split()[1])*float(B.split()[2])\n",
    "print(\"VALOR A PAGAR: R$ {:.2f}\".format(VALOR))"
   ]
  },
  {
   "cell_type": "code",
   "execution_count": null,
   "metadata": {},
   "outputs": [],
   "source": []
  }
 ],
 "metadata": {
  "kernelspec": {
   "display_name": "Python 3",
   "language": "python",
   "name": "python3"
  },
  "language_info": {
   "codemirror_mode": {
    "name": "ipython",
    "version": 3
   },
   "file_extension": ".py",
   "mimetype": "text/x-python",
   "name": "python",
   "nbconvert_exporter": "python",
   "pygments_lexer": "ipython3",
   "version": "3.8.3"
  }
 },
 "nbformat": 4,
 "nbformat_minor": 2
}
