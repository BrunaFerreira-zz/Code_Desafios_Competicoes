{
 "cells": [
  {
   "cell_type": "code",
   "execution_count": 6,
   "metadata": {},
   "outputs": [],
   "source": [
    "#TENTAR\n",
    "\n",
    "def lista_bordas(linha,coluna):\n",
    "    vetor = []\n",
    "    for i in range(0,linha):\n",
    "        for j in range(0,coluna):\n",
    "            if ((i == 0) or (i == (linha)-1)):\n",
    "                x = i\n",
    "                y = j\n",
    "                vetor.append([x,y])\n",
    "    for j in range(0,coluna):\n",
    "        for i in range(0,linha):\n",
    "            if ((j == 0) or (j == (coluna)-1)):\n",
    "                x = i\n",
    "                y = j\n",
    "                if [x,y] not in vetor:\n",
    "                    vetor.append([x,y])\n",
    "    return vetor\n",
    "\n",
    "def verifica_posicao (x,y,matriz):\n",
    "    n = len(matriz)\n",
    "    m = len(matriz[0])\n",
    "    # Verificar se a posição gerada é válida, se não ultrapassa o limite do tabuleiro. \n",
    "    # Verificar também se a posição ainda não foi visitada\n",
    "    if ((x >= 0) and (x < n) and (y >= 0) and (y < m) ):\n",
    "        return True\n",
    "    return False\n",
    "\n",
    "def proxima_posicao (x,y,seta):\n",
    "    n_x = 0\n",
    "    n_y = 0\n",
    "    if (seta == '>'):\n",
    "        n_x = x\n",
    "        n_y = y+1\n",
    "    elif (seta == '<'):\n",
    "        n_x = x\n",
    "        n_y = y-1\n",
    "    elif (seta == '^'):\n",
    "        n_x = x-1\n",
    "        n_y = y\n",
    "    elif (seta == 'v'):\n",
    "        n_x = x+1\n",
    "        n_y = y\n",
    "    return n_x,n_y\n",
    "  \n",
    "def Gruntz(matriz,v1,v2,k):\n",
    "    if((matriz[v1][v2])=='x'):\n",
    "        return True\n",
    "    else:\n",
    "        seta=matriz[v1][v2]\n",
    "        nx,ny = proxima_posicao(v1,v2,seta)\n",
    "        if (verifica_posicao(nx,ny,matriz)):\n",
    "            return True\n",
    "        else:\n",
    "            return False\n",
    "        return False\n",
    "    \n",
    "def solucao_gruntz(MATRIZ,N,M,K):\n",
    "    if(K==M==N==0):\n",
    "        return\n",
    "    else:\n",
    "        bordas = lista_bordas(N,M)\n",
    "        for i in range(len(bordas)):\n",
    "            x = bordas[i][0]\n",
    "            y = bordas[i][1]\n",
    "            if (Gruntz(MATRIZ,x,y,K)):\n",
    "                return(True)\n",
    "            else:\n",
    "                return(False)\n",
    "\n",
    "def TENTAR(MATRIZ,N,M,K):\n",
    "    if(solucao_gruntz(MATRIZ,N,M,K)):\n",
    "        print(\"Sim\")\n",
    "    else:\n",
    "        print(\"Nao\")\n",
    " "
   ]
  },
  {
   "cell_type": "code",
   "execution_count": 9,
   "metadata": {},
   "outputs": [
    {
     "name": "stdout",
     "output_type": "stream",
     "text": [
      "Sim\n"
     ]
    }
   ],
   "source": [
    "N = 5\n",
    "M = 5\n",
    "K = 0\n",
    "matriz1 = [\n",
    "          ['>','>','v','<','<'],\n",
    "          ['>','>','v','<','<'],\n",
    "          ['>','>','x','<','<'],\n",
    "          ['>','>','^','<','<'],\n",
    "          ['>','>','^','<','<'],\n",
    "         ]\n",
    "TENTAR(matriz1,N,M,K)"
   ]
  },
  {
   "cell_type": "code",
   "execution_count": 10,
   "metadata": {},
   "outputs": [
    {
     "name": "stdout",
     "output_type": "stream",
     "text": [
      "Sim\n"
     ]
    }
   ],
   "source": [
    "N = 5\n",
    "M = 5\n",
    "K = 1\n",
    "matriz1 = [\n",
    "          ['>','>','v','<','<'],\n",
    "          ['^','^','^','>','>'],\n",
    "          ['^','^','x','^','^'],\n",
    "          ['v','v','v','>','>'],\n",
    "          ['>','>','^','<','<'],\n",
    "         ]\n",
    "TENTAR(matriz1,N,M,K)"
   ]
  },
  {
   "cell_type": "code",
   "execution_count": 13,
   "metadata": {},
   "outputs": [
    {
     "name": "stdout",
     "output_type": "stream",
     "text": [
      "Nao\n"
     ]
    }
   ],
   "source": [
    "N = 0\n",
    "M = 0\n",
    "K = 0\n",
    "TENTAR(matriz1,N,M,K)"
   ]
  },
  {
   "cell_type": "code",
   "execution_count": null,
   "metadata": {},
   "outputs": [],
   "source": []
  }
 ],
 "metadata": {
  "kernelspec": {
   "display_name": "Python 3",
   "language": "python",
   "name": "python3"
  }
 },
 "nbformat": 4,
 "nbformat_minor": 2
}
