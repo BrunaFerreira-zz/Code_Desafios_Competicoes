{
 "cells": [
  {
   "cell_type": "code",
   "execution_count": 1,
   "metadata": {},
   "outputs": [],
   "source": [
    "import pandas as pd\n",
    "import numpy as np \n",
    "import math\n",
    "# Nome: Bruna Ferreira"
   ]
  },
  {
   "cell_type": "markdown",
   "metadata": {},
   "source": [
    "### Questão 1 \n",
    "* Diferença das diagonais de uma matriz"
   ]
  },
  {
   "cell_type": "code",
   "execution_count": 2,
   "metadata": {},
   "outputs": [],
   "source": [
    "def dif_diagonal (mat):\n",
    "    #diagnonal principal\n",
    "    diag_prin = 0\n",
    "    \n",
    "    #diagnonal secundária\n",
    "    diag_sec = 0\n",
    "    \n",
    "    #Indicador de Distancia \n",
    "    ind = len(mat)\n",
    "    \n",
    "    for i in range(0, len(mat)):\n",
    "        diag_prin = diag_prin + mat[i][i]\n",
    "        diag_sec = diag_sec + mat[i][ind-1]\n",
    "        ind = ind-1\n",
    "    return(abs(diag_prin - diag_sec))"
   ]
  },
  {
   "cell_type": "code",
   "execution_count": 3,
   "metadata": {},
   "outputs": [],
   "source": [
    "mat = [[11, 2, 4],\n",
    "       [4, 5, 6], \n",
    "       [10, 8, -12]]"
   ]
  },
  {
   "cell_type": "code",
   "execution_count": 4,
   "metadata": {},
   "outputs": [
    {
     "data": {
      "text/plain": [
       "[[11, 2, 4], [4, 5, 6], [10, 8, -12]]"
      ]
     },
     "execution_count": 4,
     "metadata": {},
     "output_type": "execute_result"
    }
   ],
   "source": [
    "mat"
   ]
  },
  {
   "cell_type": "code",
   "execution_count": 5,
   "metadata": {},
   "outputs": [
    {
     "name": "stdout",
     "output_type": "stream",
     "text": [
      "A diferença de diagonais da matriz é 15.\n"
     ]
    }
   ],
   "source": [
    "print(f\"A diferença de diagonais da matriz é {dif_diagonal (mat)}.\")"
   ]
  },
  {
   "cell_type": "markdown",
   "metadata": {},
   "source": [
    "### Questão 2 \n",
    "* Calcular a proporção de valores positivos, negativos e nulos de um vetor. "
   ]
  },
  {
   "cell_type": "code",
   "execution_count": 6,
   "metadata": {},
   "outputs": [],
   "source": [
    "def proporcao (vet):\n",
    "    n = len(vet)\n",
    "    pos = 0\n",
    "    neg = 0\n",
    "    nulo = 0\n",
    "    for i in range(0, n):\n",
    "        if(vet[i]==0):\n",
    "            nulo = nulo + 1\n",
    "        elif(vet[i]<0):\n",
    "            neg = neg + 1\n",
    "        else: \n",
    "            pos = pos + 1\n",
    "    print(\"Quantidade de Positivos:\", pos)\n",
    "    print(\"Quantidade de Negativos:\", neg)\n",
    "    print(\"Quantidade de Nulos:\", nulo)\n",
    "    return(round(pos/n,6), round(neg/n,6), round(nulo/n,6))        "
   ]
  },
  {
   "cell_type": "code",
   "execution_count": 7,
   "metadata": {},
   "outputs": [],
   "source": [
    "vet = [-1,-1,0,1,1]"
   ]
  },
  {
   "cell_type": "code",
   "execution_count": 8,
   "metadata": {},
   "outputs": [
    {
     "name": "stdout",
     "output_type": "stream",
     "text": [
      "Quantidade de Positivos: 2\n",
      "Quantidade de Negativos: 2\n",
      "Quantidade de Nulos: 1\n",
      "\n",
      "Dado o vetor [-1, -1, 0, 1, 1]: \n",
      " * A proporcao de positivos é 0.4\n",
      " * A proporcao de negativos é 0.4\n",
      " * A proporcao de nulos é 0.2\n"
     ]
    }
   ],
   "source": [
    "p_pos, p_neg, p_nulo = proporcao(vet)\n",
    "print(f\"\\nDado o vetor {vet}: \\n * A proporcao de positivos é {p_pos}\\n * A proporcao de negativos é {p_neg}\\n * A proporcao de nulos é {p_nulo}\")"
   ]
  },
  {
   "cell_type": "markdown",
   "metadata": {},
   "source": [
    "### Questão 3 \n",
    "* Exibir o padrão abaixo: Se n  = 4\n",
    "<br>    @ \n",
    "<br>   @@ \n",
    "<br>  @@@ \n",
    "<br> @@@@ "
   ]
  },
  {
   "cell_type": "code",
   "execution_count": 9,
   "metadata": {},
   "outputs": [
    {
     "name": "stdout",
     "output_type": "stream",
     "text": [
      "@   \n",
      "@@  \n",
      "@@@ \n",
      "@@@@\n"
     ]
    }
   ],
   "source": [
    "n= 4\n",
    "ind = 1\n",
    "for i in range (n,0,-1):\n",
    "    print(ind*str('@')+(i-1)*str(\" \"))\n",
    "    ind = ind+1"
   ]
  },
  {
   "cell_type": "markdown",
   "metadata": {},
   "source": [
    "### Questão 4\n",
    "* Dado um vetor, excluir um elemento e realizar a soma dos restantes. Exibir a menor e maior soma,\n",
    "\n",
    "Exemplo:\n",
    "- vetor [1,2,3,4,5]\n",
    "- soma sem '1'=  2+3+4+5 = 14\n",
    "- soma sem '2'=  1+3+4+5 = 13\n",
    "- soma sem '3'=  1+2+4+5 = 12\n",
    "- soma sem '4'=  1+2+3+5 = 11\n",
    "- soma sem '5'=  1+2+3+4 = 10\n",
    "- Função exibirá 10(menor valor),14(maior valor)"
   ]
  },
  {
   "cell_type": "code",
   "execution_count": 10,
   "metadata": {},
   "outputs": [],
   "source": [
    "def min_max(vet):\n",
    "    print(\"Somas:\")\n",
    "    \n",
    "    for i in range (0,len(vet)):\n",
    "        soma = 0\n",
    "        for j in range(0,len(vet)):\n",
    "            if(j!=i):\n",
    "                soma = soma +vet[j]\n",
    "        if(i==0):\n",
    "            menor = soma\n",
    "            maior = soma\n",
    "        else:\n",
    "            if(soma>maior):\n",
    "                maior = soma\n",
    "            elif(soma<menor):\n",
    "                menor = soma \n",
    "        print(soma)\n",
    "    print('Menor soma:',menor)\n",
    "    print('Maior soma:',maior)\n",
    "            "
   ]
  },
  {
   "cell_type": "code",
   "execution_count": 11,
   "metadata": {},
   "outputs": [],
   "source": [
    "vet = [769082435,210437958,673982045,375809214,380564127]"
   ]
  },
  {
   "cell_type": "code",
   "execution_count": 12,
   "metadata": {},
   "outputs": [
    {
     "name": "stdout",
     "output_type": "stream",
     "text": [
      "Somas:\n",
      "1640793344\n",
      "2199437821\n",
      "1735893734\n",
      "2034066565\n",
      "2029311652\n",
      "Menor soma: 1640793344\n",
      "Maior soma: 2199437821\n"
     ]
    }
   ],
   "source": [
    "min_max(vet)"
   ]
  },
  {
   "cell_type": "markdown",
   "metadata": {},
   "source": [
    "### Questão 5\n",
    "* Dado um vetor, qual o item de maior valor e quantas vezes ele aparece\n"
   ]
  },
  {
   "cell_type": "code",
   "execution_count": 13,
   "metadata": {},
   "outputs": [],
   "source": [
    "vet = [3,2,1,3]"
   ]
  },
  {
   "cell_type": "code",
   "execution_count": 14,
   "metadata": {},
   "outputs": [],
   "source": [
    "def qtd_max (vet):\n",
    "    maior = 0\n",
    "    qtd = [0]*10000000\n",
    "    #Verifica qual o maior elemento do vetor\n",
    "    for i in range (0,len(vet)):\n",
    "        #Armazena a quantidade de vezes que o número aparece\n",
    "        qtd[vet[i]] = qtd[vet[i]]+1\n",
    "        if(vet[i]>maior):\n",
    "            maior = vet[i]\n",
    "\n",
    "    return qtd[maior]\n",
    "        "
   ]
  },
  {
   "cell_type": "code",
   "execution_count": 15,
   "metadata": {},
   "outputs": [
    {
     "data": {
      "text/plain": [
       "2"
      ]
     },
     "execution_count": 15,
     "metadata": {},
     "output_type": "execute_result"
    }
   ],
   "source": [
    "qtd_max(vet)"
   ]
  },
  {
   "cell_type": "markdown",
   "metadata": {},
   "source": [
    "### Questão 6\n",
    "* Dada uma string contendo a hora no formato `12:01:00PM` converter para `12:00:00`.\n",
    "* Transformar de formato 12h para 24h"
   ]
  },
  {
   "cell_type": "code",
   "execution_count": 16,
   "metadata": {},
   "outputs": [],
   "source": [
    "def converte_hora (s):\n",
    "    print('Horas formato de 12h:',s)\n",
    "    periodo = s[-2:]\n",
    "    horas_com = s[:8]\n",
    "    horas = s[:2]\n",
    "    _com = s[2:8]\n",
    "    \n",
    "    #Todos valores marcados com PM precisam ser maiores ou igual a 12\n",
    "    if(periodo == 'PM' and int(horas)<12):\n",
    "        horas = str(int(horas)+12)\n",
    "        new_horas = horas+_com\n",
    "    \n",
    "    #Todos valores marcados com AM precisam ser menores 12\n",
    "    elif(periodo == 'AM' and int(horas)>=12):\n",
    "        horas = str(int(horas)-12)\n",
    "        # Se o valor da hora tiver apenas um numero acrescenta zero no inicio\n",
    "        # Ex: 9:10 -> 09:10\n",
    "        if(len(horas)==1):\n",
    "            horas = '0'+horas\n",
    "        new_horas = horas+_com\n",
    "    else:\n",
    "        new_horas = horas_com\n",
    "    print('Horas formato de 24h:',new_horas)\n"
   ]
  },
  {
   "cell_type": "code",
   "execution_count": 17,
   "metadata": {},
   "outputs": [
    {
     "name": "stdout",
     "output_type": "stream",
     "text": [
      "Horas formato de 12h: 12:40:22AM\n",
      "Horas formato de 24h: 00:40:22\n"
     ]
    }
   ],
   "source": [
    "s = '12:40:22AM'\n",
    "converte_hora(s)"
   ]
  },
  {
   "cell_type": "markdown",
   "metadata": {},
   "source": [
    "### Questão 7\n",
    "* Dado um intervalo a e b, identificar quantos números possuem raiz quadrada"
   ]
  },
  {
   "cell_type": "code",
   "execution_count": 18,
   "metadata": {},
   "outputs": [],
   "source": [
    "#Intervalos Menores\n",
    "\n",
    "def verifica_raiz_quadrada(a,b):\n",
    "    vet = []\n",
    "    qtd = 0\n",
    "    ind = 0\n",
    "    \n",
    "    # Vetor com valores entre a e b\n",
    "    vet = []\n",
    "    for i in range(a,b+1):\n",
    "        vet.append(i)\n",
    "    \n",
    "    print(f'Números que possui raiz quadrada:')\n",
    "    # Enquando o valor do indice for menor que b\n",
    "    # Começa com o quadrado de 0, e vai incrementando\n",
    "    while(ind<=b):\n",
    "        quadrado = ind*ind\n",
    "        # Varre o vetor de intervalo para verificar se o\n",
    "        #quadrado ta no intervalo\n",
    "        for j in range(0,len(vet)):\n",
    "            # Se tiver o quadrado no vetor soma 1 no contador\n",
    "            if(quadrado== vet[j]):\n",
    "               # print(f'* {quadrado}')\n",
    "                qtd = qtd+1\n",
    "        # caso contrario testa o quadrado do indice seguinte\n",
    "        ind = ind +1\n",
    "    return qtd"
   ]
  },
  {
   "cell_type": "code",
   "execution_count": 19,
   "metadata": {},
   "outputs": [
    {
     "name": "stdout",
     "output_type": "stream",
     "text": [
      "Números que possui raiz quadrada:\n"
     ]
    },
    {
     "data": {
      "text/plain": [
       "2"
      ]
     },
     "execution_count": 19,
     "metadata": {},
     "output_type": "execute_result"
    }
   ],
   "source": [
    "verifica_raiz_quadrada(3,9)"
   ]
  },
  {
   "cell_type": "code",
   "execution_count": 20,
   "metadata": {},
   "outputs": [],
   "source": [
    "def verifica_raiz_quadrada_v2(a,b):\n",
    "    qtd = 0\n",
    "    x = 1\n",
    "    while(x*x < a):\n",
    "        x = x+1\n",
    "    \n",
    "    while(x*x <= b):\n",
    "        qtd = qtd+1\n",
    "        x = x+1\n",
    "    return qtd"
   ]
  },
  {
   "cell_type": "code",
   "execution_count": 21,
   "metadata": {},
   "outputs": [
    {
     "data": {
      "text/plain": [
       "2"
      ]
     },
     "execution_count": 21,
     "metadata": {},
     "output_type": "execute_result"
    }
   ],
   "source": [
    "verifica_raiz_quadrada_v2(3,9)"
   ]
  }
 ],
 "metadata": {
  "kernelspec": {
   "display_name": "Python 3",
   "language": "python",
   "name": "python3"
  },
  "language_info": {
   "codemirror_mode": {
    "name": "ipython",
    "version": 3
   },
   "file_extension": ".py",
   "mimetype": "text/x-python",
   "name": "python",
   "nbconvert_exporter": "python",
   "pygments_lexer": "ipython3",
   "version": "3.7.4"
  }
 },
 "nbformat": 4,
 "nbformat_minor": 2
}
